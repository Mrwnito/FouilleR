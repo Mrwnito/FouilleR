{
 "cells": [
  {
   "cell_type": "code",
   "execution_count": 1,
   "metadata": {
    "vscode": {
     "languageId": "r"
    }
   },
   "outputs": [
    {
     "name": "stderr",
     "output_type": "stream",
     "text": [
      "── \u001b[1mAttaching core tidyverse packages\u001b[22m ──────────────────────── tidyverse 2.0.0 ──\n",
      "\u001b[32m✔\u001b[39m \u001b[34mdplyr    \u001b[39m 1.1.4     \u001b[32m✔\u001b[39m \u001b[34mreadr    \u001b[39m 2.1.5\n",
      "\u001b[32m✔\u001b[39m \u001b[34mforcats  \u001b[39m 1.0.0     \u001b[32m✔\u001b[39m \u001b[34mstringr  \u001b[39m 1.5.1\n",
      "\u001b[32m✔\u001b[39m \u001b[34mggplot2  \u001b[39m 3.4.4     \u001b[32m✔\u001b[39m \u001b[34mtibble   \u001b[39m 3.2.1\n",
      "\u001b[32m✔\u001b[39m \u001b[34mlubridate\u001b[39m 1.9.3     \u001b[32m✔\u001b[39m \u001b[34mtidyr    \u001b[39m 1.3.0\n",
      "\u001b[32m✔\u001b[39m \u001b[34mpurrr    \u001b[39m 1.0.2     \n",
      "── \u001b[1mConflicts\u001b[22m ────────────────────────────────────────── tidyverse_conflicts() ──\n",
      "\u001b[31m✖\u001b[39m \u001b[34mdplyr\u001b[39m::\u001b[32mfilter()\u001b[39m masks \u001b[34mstats\u001b[39m::filter()\n",
      "\u001b[31m✖\u001b[39m \u001b[34mdplyr\u001b[39m::\u001b[32mlag()\u001b[39m    masks \u001b[34mstats\u001b[39m::lag()\n",
      "\u001b[36mℹ\u001b[39m Use the conflicted package (\u001b[3m\u001b[34m<http://conflicted.r-lib.org/>\u001b[39m\u001b[23m) to force all conflicts to become errors\n",
      "This is text (version 1.0).\n",
      "Text is new and still rapidly improving.\n",
      "               \n",
      "Newer versions may have improved functions and updated defaults to reflect current understandings of the state-of-the-art.\n",
      "               Please send us feedback based on your experience.\n",
      "\n",
      "Please note that defaults has changed in the textEmbed-functions since last version; see help(textEmbed) or www.r-text.org for more details.\n",
      "\n",
      "\n",
      "Attaching package: 'kableExtra'\n",
      "\n",
      "\n",
      "The following object is masked from 'package:dplyr':\n",
      "\n",
      "    group_rows\n",
      "\n",
      "\n",
      "Loading required package: NLP\n",
      "\n",
      "\n",
      "Attaching package: 'NLP'\n",
      "\n",
      "\n",
      "The following object is masked from 'package:ggplot2':\n",
      "\n",
      "    annotate\n",
      "\n",
      "\n",
      "Loading required package: RColorBrewer\n",
      "\n",
      "Loading required package: lattice\n",
      "\n",
      "\n",
      "Attaching package: 'caret'\n",
      "\n",
      "\n",
      "The following object is masked from 'package:purrr':\n",
      "\n",
      "    lift\n",
      "\n",
      "\n"
     ]
    },
    {
     "data": {
      "text/html": [
       "<table class=\"dataframe\">\n",
       "<caption>A data.frame: 10 × 2</caption>\n",
       "<thead>\n",
       "\t<tr><th></th><th scope=col>Comment</th><th scope=col>Emotion</th></tr>\n",
       "\t<tr><th></th><th scope=col>&lt;chr&gt;</th><th scope=col>&lt;chr&gt;</th></tr>\n",
       "</thead>\n",
       "<tbody>\n",
       "\t<tr><th scope=row>1</th><td>i seriously hate one subject to death but now i feel reluctant to drop it                                                          </td><td>fear </td></tr>\n",
       "\t<tr><th scope=row>2</th><td>im so full of life i feel appalled                                                                                                 </td><td>anger</td></tr>\n",
       "\t<tr><th scope=row>3</th><td>i sit here to write i start to dig out my feelings and i think that i am afraid to accept the possibility that he might not make it</td><td>fear </td></tr>\n",
       "\t<tr><th scope=row>4</th><td>ive been really angry with r and i feel like an idiot for trusting him in the first place                                          </td><td>joy  </td></tr>\n",
       "\t<tr><th scope=row>5</th><td>i feel suspicious if there is no one outside like the rapture has happened or something                                            </td><td>fear </td></tr>\n",
       "\t<tr><th scope=row>6</th><td>i feel jealous becasue i wanted that kind of love the true connection between two souls and i wanted that                          </td><td>anger</td></tr>\n",
       "\t<tr><th scope=row>7</th><td>when a friend of mine keeps telling me morbid things that happened to his dog                                                      </td><td>anger</td></tr>\n",
       "\t<tr><th scope=row>8</th><td>i finally fell asleep feeling angry useless and still full of anxiety                                                              </td><td>anger</td></tr>\n",
       "\t<tr><th scope=row>9</th><td>i feel a bit annoyed and antsy in a good way                                                                                       </td><td>anger</td></tr>\n",
       "\t<tr><th scope=row>10</th><td>i feel like i ve regained another vital part of my life which is living                                                            </td><td>joy  </td></tr>\n",
       "</tbody>\n",
       "</table>\n"
      ],
      "text/latex": [
       "A data.frame: 10 × 2\n",
       "\\begin{tabular}{r|ll}\n",
       "  & Comment & Emotion\\\\\n",
       "  & <chr> & <chr>\\\\\n",
       "\\hline\n",
       "\t1 & i seriously hate one subject to death but now i feel reluctant to drop it                                                           & fear \\\\\n",
       "\t2 & im so full of life i feel appalled                                                                                                  & anger\\\\\n",
       "\t3 & i sit here to write i start to dig out my feelings and i think that i am afraid to accept the possibility that he might not make it & fear \\\\\n",
       "\t4 & ive been really angry with r and i feel like an idiot for trusting him in the first place                                           & joy  \\\\\n",
       "\t5 & i feel suspicious if there is no one outside like the rapture has happened or something                                             & fear \\\\\n",
       "\t6 & i feel jealous becasue i wanted that kind of love the true connection between two souls and i wanted that                           & anger\\\\\n",
       "\t7 & when a friend of mine keeps telling me morbid things that happened to his dog                                                       & anger\\\\\n",
       "\t8 & i finally fell asleep feeling angry useless and still full of anxiety                                                               & anger\\\\\n",
       "\t9 & i feel a bit annoyed and antsy in a good way                                                                                        & anger\\\\\n",
       "\t10 & i feel like i ve regained another vital part of my life which is living                                                             & joy  \\\\\n",
       "\\end{tabular}\n"
      ],
      "text/markdown": [
       "\n",
       "A data.frame: 10 × 2\n",
       "\n",
       "| <!--/--> | Comment &lt;chr&gt; | Emotion &lt;chr&gt; |\n",
       "|---|---|---|\n",
       "| 1 | i seriously hate one subject to death but now i feel reluctant to drop it                                                           | fear  |\n",
       "| 2 | im so full of life i feel appalled                                                                                                  | anger |\n",
       "| 3 | i sit here to write i start to dig out my feelings and i think that i am afraid to accept the possibility that he might not make it | fear  |\n",
       "| 4 | ive been really angry with r and i feel like an idiot for trusting him in the first place                                           | joy   |\n",
       "| 5 | i feel suspicious if there is no one outside like the rapture has happened or something                                             | fear  |\n",
       "| 6 | i feel jealous becasue i wanted that kind of love the true connection between two souls and i wanted that                           | anger |\n",
       "| 7 | when a friend of mine keeps telling me morbid things that happened to his dog                                                       | anger |\n",
       "| 8 | i finally fell asleep feeling angry useless and still full of anxiety                                                               | anger |\n",
       "| 9 | i feel a bit annoyed and antsy in a good way                                                                                        | anger |\n",
       "| 10 | i feel like i ve regained another vital part of my life which is living                                                             | joy   |\n",
       "\n"
      ],
      "text/plain": [
       "   Comment                                                                                                                            \n",
       "1  i seriously hate one subject to death but now i feel reluctant to drop it                                                          \n",
       "2  im so full of life i feel appalled                                                                                                 \n",
       "3  i sit here to write i start to dig out my feelings and i think that i am afraid to accept the possibility that he might not make it\n",
       "4  ive been really angry with r and i feel like an idiot for trusting him in the first place                                          \n",
       "5  i feel suspicious if there is no one outside like the rapture has happened or something                                            \n",
       "6  i feel jealous becasue i wanted that kind of love the true connection between two souls and i wanted that                          \n",
       "7  when a friend of mine keeps telling me morbid things that happened to his dog                                                      \n",
       "8  i finally fell asleep feeling angry useless and still full of anxiety                                                              \n",
       "9  i feel a bit annoyed and antsy in a good way                                                                                       \n",
       "10 i feel like i ve regained another vital part of my life which is living                                                            \n",
       "   Emotion\n",
       "1  fear   \n",
       "2  anger  \n",
       "3  fear   \n",
       "4  joy    \n",
       "5  fear   \n",
       "6  anger  \n",
       "7  anger  \n",
       "8  anger  \n",
       "9  anger  \n",
       "10 joy    "
      ]
     },
     "metadata": {},
     "output_type": "display_data"
    }
   ],
   "source": [
    "knitr::opts_chunk$set(echo = TRUE)\n",
    "\n",
    "rm(list = ls())\n",
    "\n",
    "# Chargement des librairies\n",
    "library(\"tidyverse\")\n",
    "library(\"text\")\n",
    "library(\"kableExtra\")\n",
    "library(\"e1071\")\n",
    "library(\"tm\")\n",
    "library(\"wordcloud\")\n",
    "library(\"caret\")\n",
    "library(\"text\")\n",
    "library(\"tidytext\")\n",
    "library(\"spacyr\")\n",
    "\n",
    "data <- read.csv(\"Emotion_classify_Data.csv\", stringsAsFactors = FALSE)\n",
    "head(data, 10)"
   ]
  },
  {
   "cell_type": "code",
   "execution_count": 2,
   "metadata": {
    "vscode": {
     "languageId": "r"
    }
   },
   "outputs": [
    {
     "name": "stderr",
     "output_type": "stream",
     "text": [
      "successfully initialized (spaCy Version: 3.7.2, language model: en_core_web_sm)\n",
      "\n"
     ]
    }
   ],
   "source": [
    "#spacy_install()\n",
    "spacy_initialize(model = \"en_core_web_sm\")"
   ]
  },
  {
   "cell_type": "code",
   "execution_count": 3,
   "metadata": {
    "vscode": {
     "languageId": "r"
    }
   },
   "outputs": [],
   "source": [
    "stopWords2 <- c(stopwords(\"english\"), 'feel', 'feeling', 'really', 'time', 'im', 'know', 'make', 'little')\n",
    "\n",
    "# Fonction de prétraitement avec lemmatisation\n",
    "preprocess <- function(text) {\n",
    "  # Création d'un corpus\n",
    "  corpus <- VCorpus(VectorSource(text))  \n",
    "  # Nettoyage des données\n",
    "  corpus <- tm_map(corpus, content_transformer(tolower))\n",
    "  corpus <- tm_map(corpus, removePunctuation)\n",
    "  corpus <- tm_map(corpus, removeNumbers)\n",
    "  corpus <- tm_map(corpus, removeWords, stopWords2)\n",
    "\n",
    "  # Lemmatisation avec spacyr\n",
    "  lemmatized_text <- sapply(corpus, function(x) {\n",
    "    parsed <- spacy_parse(as.character(x), lemma = TRUE)\n",
    "    paste(parsed$lemma, collapse = \" \")\n",
    "  })\n",
    "\n",
    "  return(lemmatized_text)\n",
    "}\n",
    "\n",
    "# Appliquer la fonction de prétraitement\n",
    "data$preprocessed_comment <- sapply(data$Comment, preprocess)\n"
   ]
  },
  {
   "cell_type": "code",
   "execution_count": 4,
   "metadata": {
    "vscode": {
     "languageId": "r"
    }
   },
   "outputs": [
    {
     "data": {
      "text/html": [
       "<table class=\"dataframe\">\n",
       "<caption>A data.frame: 5 × 4</caption>\n",
       "<thead>\n",
       "\t<tr><th></th><th scope=col>Comment</th><th scope=col>Emotion</th><th scope=col>preprocessed_comment</th><th scope=col>Emotion_num</th></tr>\n",
       "\t<tr><th></th><th scope=col>&lt;chr&gt;</th><th scope=col>&lt;chr&gt;</th><th scope=col>&lt;chr&gt;</th><th scope=col>&lt;dbl&gt;</th></tr>\n",
       "</thead>\n",
       "<tbody>\n",
       "\t<tr><th scope=row>1</th><td>i seriously hate one subject to death but now i feel reluctant to drop it                                                          </td><td>fear </td><td>  seriously hate one subject   death   now    reluctant   drop                                </td><td>1</td></tr>\n",
       "\t<tr><th scope=row>2</th><td>im so full of life i feel appalled                                                                                                 </td><td>anger</td><td>   full   life    appal                                                                       </td><td>2</td></tr>\n",
       "\t<tr><th scope=row>3</th><td>i sit here to write i start to dig out my feelings and i think that i am afraid to accept the possibility that he might not make it</td><td>fear </td><td>  sit    write   start   dig    feeling    think     afraid   accept   possibility    might   </td><td>1</td></tr>\n",
       "\t<tr><th scope=row>4</th><td>ive been really angry with r and i feel like an idiot for trusting him in the first place                                          </td><td>joy  </td><td>I ve    angry   r     like   idiot   trust     first place                                    </td><td>0</td></tr>\n",
       "\t<tr><th scope=row>5</th><td>i feel suspicious if there is no one outside like the rapture has happened or something                                            </td><td>fear </td><td>   suspicious      one outside like   rapture   happen   something                            </td><td>1</td></tr>\n",
       "</tbody>\n",
       "</table>\n"
      ],
      "text/latex": [
       "A data.frame: 5 × 4\n",
       "\\begin{tabular}{r|llll}\n",
       "  & Comment & Emotion & preprocessed\\_comment & Emotion\\_num\\\\\n",
       "  & <chr> & <chr> & <chr> & <dbl>\\\\\n",
       "\\hline\n",
       "\t1 & i seriously hate one subject to death but now i feel reluctant to drop it                                                           & fear  &   seriously hate one subject   death   now    reluctant   drop                                 & 1\\\\\n",
       "\t2 & im so full of life i feel appalled                                                                                                  & anger &    full   life    appal                                                                        & 2\\\\\n",
       "\t3 & i sit here to write i start to dig out my feelings and i think that i am afraid to accept the possibility that he might not make it & fear  &   sit    write   start   dig    feeling    think     afraid   accept   possibility    might    & 1\\\\\n",
       "\t4 & ive been really angry with r and i feel like an idiot for trusting him in the first place                                           & joy   & I ve    angry   r     like   idiot   trust     first place                                     & 0\\\\\n",
       "\t5 & i feel suspicious if there is no one outside like the rapture has happened or something                                             & fear  &    suspicious      one outside like   rapture   happen   something                             & 1\\\\\n",
       "\\end{tabular}\n"
      ],
      "text/markdown": [
       "\n",
       "A data.frame: 5 × 4\n",
       "\n",
       "| <!--/--> | Comment &lt;chr&gt; | Emotion &lt;chr&gt; | preprocessed_comment &lt;chr&gt; | Emotion_num &lt;dbl&gt; |\n",
       "|---|---|---|---|---|\n",
       "| 1 | i seriously hate one subject to death but now i feel reluctant to drop it                                                           | fear  |   seriously hate one subject   death   now    reluctant   drop                                 | 1 |\n",
       "| 2 | im so full of life i feel appalled                                                                                                  | anger |    full   life    appal                                                                        | 2 |\n",
       "| 3 | i sit here to write i start to dig out my feelings and i think that i am afraid to accept the possibility that he might not make it | fear  |   sit    write   start   dig    feeling    think     afraid   accept   possibility    might    | 1 |\n",
       "| 4 | ive been really angry with r and i feel like an idiot for trusting him in the first place                                           | joy   | I ve    angry   r     like   idiot   trust     first place                                     | 0 |\n",
       "| 5 | i feel suspicious if there is no one outside like the rapture has happened or something                                             | fear  |    suspicious      one outside like   rapture   happen   something                             | 1 |\n",
       "\n"
      ],
      "text/plain": [
       "  Comment                                                                                                                            \n",
       "1 i seriously hate one subject to death but now i feel reluctant to drop it                                                          \n",
       "2 im so full of life i feel appalled                                                                                                 \n",
       "3 i sit here to write i start to dig out my feelings and i think that i am afraid to accept the possibility that he might not make it\n",
       "4 ive been really angry with r and i feel like an idiot for trusting him in the first place                                          \n",
       "5 i feel suspicious if there is no one outside like the rapture has happened or something                                            \n",
       "  Emotion\n",
       "1 fear   \n",
       "2 anger  \n",
       "3 fear   \n",
       "4 joy    \n",
       "5 fear   \n",
       "  preprocessed_comment                                                                          \n",
       "1   seriously hate one subject   death   now    reluctant   drop                                \n",
       "2    full   life    appal                                                                       \n",
       "3   sit    write   start   dig    feeling    think     afraid   accept   possibility    might   \n",
       "4 I ve    angry   r     like   idiot   trust     first place                                    \n",
       "5    suspicious      one outside like   rapture   happen   something                            \n",
       "  Emotion_num\n",
       "1 1          \n",
       "2 2          \n",
       "3 1          \n",
       "4 0          \n",
       "5 1          "
      ]
     },
     "metadata": {},
     "output_type": "display_data"
    }
   ],
   "source": [
    "data$Emotion_num <- match(data$Emotion, c('joy', 'fear', 'anger')) - 1\n",
    "head(data, 5)"
   ]
  },
  {
   "cell_type": "code",
   "execution_count": 14,
   "metadata": {
    "vscode": {
     "languageId": "r"
    }
   },
   "outputs": [
    {
     "data": {
      "text/plain": [
       "<<TermDocumentMatrix (terms: 6, documents: 5937)>>\n",
       "Non-/sparse entries: 646/34976\n",
       "Sparsity           : 98%\n",
       "Maximal term length: 9\n",
       "Weighting          : term frequency (tf)"
      ]
     },
     "metadata": {},
     "output_type": "display_data"
    },
    {
     "data": {
      "text/html": [
       "<style>\n",
       ".dl-inline {width: auto; margin:0; padding: 0}\n",
       ".dl-inline>dt, .dl-inline>dd {float: none; width: auto; display: inline-block}\n",
       ".dl-inline>dt::after {content: \":\\0020\"; padding-right: .5ex}\n",
       ".dl-inline>dt:not(:first-of-type) {padding-left: .5ex}\n",
       "</style><dl class=dl-inline><dt>like</dt><dd>1007</dd><dt>not</dt><dd>593</dd><dt>just</dt><dd>531</dd><dt>get</dt><dd>500</dd><dt>can</dt><dd>490</dd><dt>want</dt><dd>348</dd></dl>\n"
      ],
      "text/latex": [
       "\\begin{description*}\n",
       "\\item[like] 1007\n",
       "\\item[not] 593\n",
       "\\item[just] 531\n",
       "\\item[get] 500\n",
       "\\item[can] 490\n",
       "\\item[want] 348\n",
       "\\end{description*}\n"
      ],
      "text/markdown": [
       "like\n",
       ":   1007not\n",
       ":   593just\n",
       ":   531get\n",
       ":   500can\n",
       ":   490want\n",
       ":   348\n",
       "\n"
      ],
      "text/plain": [
       "like  not just  get  can want \n",
       "1007  593  531  500  490  348 "
      ]
     },
     "metadata": {},
     "output_type": "display_data"
    },
    {
     "data": {
      "text/html": [
       "<table class=\"dataframe\">\n",
       "<caption>A data.frame: 6 × 2</caption>\n",
       "<thead>\n",
       "\t<tr><th></th><th scope=col>term</th><th scope=col>freq</th></tr>\n",
       "\t<tr><th></th><th scope=col>&lt;chr&gt;</th><th scope=col>&lt;dbl&gt;</th></tr>\n",
       "</thead>\n",
       "<tbody>\n",
       "\t<tr><th scope=row>like</th><td>like</td><td>1007</td></tr>\n",
       "\t<tr><th scope=row>not</th><td>not </td><td> 593</td></tr>\n",
       "\t<tr><th scope=row>just</th><td>just</td><td> 531</td></tr>\n",
       "\t<tr><th scope=row>get</th><td>get </td><td> 500</td></tr>\n",
       "\t<tr><th scope=row>can</th><td>can </td><td> 490</td></tr>\n",
       "\t<tr><th scope=row>want</th><td>want</td><td> 348</td></tr>\n",
       "</tbody>\n",
       "</table>\n"
      ],
      "text/latex": [
       "A data.frame: 6 × 2\n",
       "\\begin{tabular}{r|ll}\n",
       "  & term & freq\\\\\n",
       "  & <chr> & <dbl>\\\\\n",
       "\\hline\n",
       "\tlike & like & 1007\\\\\n",
       "\tnot & not  &  593\\\\\n",
       "\tjust & just &  531\\\\\n",
       "\tget & get  &  500\\\\\n",
       "\tcan & can  &  490\\\\\n",
       "\twant & want &  348\\\\\n",
       "\\end{tabular}\n"
      ],
      "text/markdown": [
       "\n",
       "A data.frame: 6 × 2\n",
       "\n",
       "| <!--/--> | term &lt;chr&gt; | freq &lt;dbl&gt; |\n",
       "|---|---|---|\n",
       "| like | like | 1007 |\n",
       "| not | not  |  593 |\n",
       "| just | just |  531 |\n",
       "| get | get  |  500 |\n",
       "| can | can  |  490 |\n",
       "| want | want |  348 |\n",
       "\n"
      ],
      "text/plain": [
       "     term freq\n",
       "like like 1007\n",
       "not  not   593\n",
       "just just  531\n",
       "get  get   500\n",
       "can  can   490\n",
       "want want  348"
      ]
     },
     "metadata": {},
     "output_type": "display_data"
    },
    {
     "data": {
      "image/png": "[encoded data removed]",
      "text/plain": [
       "plot without title"
      ]
     },
     "metadata": {
      "image/png": {
       "height": 420,
       "width": 420
      }
     },
     "output_type": "display_data"
    }
   ],
   "source": [
    "text <- data$preprocessed_comment\n",
    "# Création d'un corpus à partir de vos données prétraitées\n",
    "corpus <- Corpus(VectorSource(text))\n",
    "\n",
    "# Création d'une matrice de termes-document\n",
    "dtm <- TermDocumentMatrix(corpus)\n",
    "\n",
    "# Calcul des fréquences de termes\n",
    "term_frequencies <- sort(rowSums(as.matrix(dtm)), decreasing = TRUE)\n",
    "\n",
    "# Création d'un data frame avec les termes et leurs fréquences\n",
    "term_freq_df <- data.frame(term = names(term_frequencies), freq = term_frequencies)\n",
    "\n",
    "\n",
    "\n",
    "# Création du nuage de mots avec les mots et leurs fréquences\n",
    "wordcloud(words = term_freq_df$term, freq = term_freq_df$freq, scale=c(3,0.5), max.words=100)"
   ]
  },
  {
   "cell_type": "code",
   "execution_count": 16,
   "metadata": {
    "vscode": {
     "languageId": "r"
    }
   },
   "outputs": [
    {
     "name": "stdout",
     "output_type": "stream",
     "text": [
      "[1] \"Nuage de mots pour l'émotion: fear\"\n",
      "[1] \"Nuage de mots pour l'émotion: anger\"\n"
     ]
    },
    {
     "data": {
      "image/png": "[encoded data removed]",
      "text/plain": [
       "plot without title"
      ]
     },
     "metadata": {
      "image/png": {
       "height": 420,
       "width": 420
      }
     },
     "output_type": "display_data"
    },
    {
     "name": "stdout",
     "output_type": "stream",
     "text": [
      "[1] \"Nuage de mots pour l'émotion: joy\"\n"
     ]
    },
    {
     "data": {
      "image/png": "[encoded data removed]",
      "text/plain": [
       "plot without title"
      ]
     },
     "metadata": {
      "image/png": {
       "height": 420,
       "width": 420
      }
     },
     "output_type": "display_data"
    },
    {
     "data": {
      "image/png": "[encoded data removed]",
      "text/plain": [
       "plot without title"
      ]
     },
     "metadata": {
      "image/png": {
       "height": 420,
       "width": 420
      }
     },
     "output_type": "display_data"
    }
   ],
   "source": [
    "# Liste des émotions à traiter\n",
    "emotions <- unique(data$Emotion)\n",
    "\n",
    "# Boucle pour créer un nuage de mots pour chaque émotion\n",
    "for (emotion in emotions) {\n",
    "  # Création d'un sous-ensemble pour l'émotion spécifique\n",
    "  data_subset <- data[data$Emotion == emotion, ]\n",
    "  \n",
    "  # Création d'un corpus à partir des données prétraitées\n",
    "  corpus <- Corpus(VectorSource(data_subset$preprocessed_comment))\n",
    "  \n",
    "  # Création d'une matrice de termes-document\n",
    "  dtm <- TermDocumentMatrix(corpus)\n",
    "  \n",
    "  # Calcul des fréquences de termes\n",
    "  term_frequencies <- rowSums(as.matrix(dtm))\n",
    "  \n",
    "  # Création d'un data frame avec les termes et leurs fréquences\n",
    "  term_freq_df <- data.frame(term = names(term_frequencies), freq = term_frequencies)\n",
    "  \n",
    "  # Tri des termes par fréquence décroissante\n",
    "  term_freq_df <- term_freq_df[order(-term_freq_df$freq), ]\n",
    "  \n",
    "  # Création du nuage de mots pour l'émotion spécifique\n",
    "  print(paste(\"Nuage de mots pour l'émotion:\", emotion))\n",
    "  wordcloud(words = term_freq_df$term, freq = term_freq_df$freq, scale=c(3,0.5), max.words=200)\n",
    "}\n"
   ]
  },
  {
   "cell_type": "code",
   "execution_count": 5,
   "metadata": {
    "vscode": {
     "languageId": "r"
    }
   },
   "outputs": [],
   "source": [
    "library(\"caret\")\n",
    "\n",
    "# Assurez-vous que df est votre dataframe et qu'il contient les colonnes 'preprocessed_comment' et 'Emotion_num'\n",
    "\n",
    "# Création d'un index pour le partitionnement stratifié\n",
    "set.seed(42)\n",
    "trainIndex <- createDataPartition(data$Emotion_num, p = 0.8, list = FALSE, times = 1)\n",
    "\n",
    "# Séparation des données en ensembles d'entraînement et de test\n",
    "X_train <- data$preprocessed_comment[trainIndex]\n",
    "y_train <- data$Emotion_num[trainIndex]\n",
    "X_test <- data$preprocessed_comment[-trainIndex]\n",
    "y_test <- data$Emotion_num[-trainIndex]"
   ]
  },
  {
   "cell_type": "code",
   "execution_count": 6,
   "metadata": {
    "vscode": {
     "languageId": "r"
    }
   },
   "outputs": [
    {
     "name": "stdout",
     "output_type": "stream",
     "text": [
      " [1] \"aac\"         \"ab\"          \"abandonment\" \"abbigail\"    \"abdomen\"    \n",
      " [6] \"abelard\"     \"abnormally\"  \"abound\"      \"abroad\"      \"abruptly\"   \n",
      "[11] \"absence\"     \"absolute\"    \"absolutly\"   \"absorb\"      \"abstract\"   \n",
      "[16] \"absurdity\"   \"abuse\"       \"abyss\"       \"academia\"    \"accelerate\" \n"
     ]
    }
   ],
   "source": [
    "library(text2vec)\n",
    "\n",
    "# Assurez-vous que X_train et X_test sont disponibles et contiennent les données textuelles\n",
    "\n",
    "# Création d'un itérateur sur les documents\n",
    "it_train <- itoken(X_train, progressbar = FALSE)\n",
    "it_test <- itoken(X_test, progressbar = FALSE)\n",
    "\n",
    "# Création du vocabulaire et du vectoriseur\n",
    "vocab <- create_vocabulary(it_train)\n",
    "vectorizer <- vocab_vectorizer(vocab)\n",
    "\n",
    "# Transformation des données d'entraînement et de test en utilisant TF-IDF\n",
    "tfidf_transformer <- TfIdf$new()\n",
    "dtm_train <- create_dtm(it_train, vectorizer) %>%\n",
    "  tfidf_transformer$fit_transform()\n",
    "dtm_test <- create_dtm(it_test, vectorizer) %>%\n",
    "  tfidf_transformer$transform()\n",
    "\n",
    "# Affichage des 20 premiers termes du vocabulaire\n",
    "print(head(vocab$term, 20))\n",
    "\n"
   ]
  },
  {
   "cell_type": "code",
   "execution_count": 8,
   "metadata": {
    "vscode": {
     "languageId": "r"
    }
   },
   "outputs": [],
   "source": [
    "# Assumons que dtm_train est votre Document-Term Matrix et y_train est votre vecteur de réponse\n",
    "library(\"naivebayes\")\n",
    "\n",
    "# Entraînement du modèle Naive Bayes\n",
    "NB_model <- multinomial_naive_bayes(as.matrix(dtm_train), as.factor(y_train), laplace = 1)\n",
    "summary(NB_model)\n",
    "# NB_model est maintenant le modèle entraîné\n"
   ]
  },
  {
   "cell_type": "code",
   "execution_count": 19,
   "metadata": {
    "vscode": {
     "languageId": "r"
    }
   },
   "outputs": [],
   "source": [
    "# Classification\n",
    "predictions <- predict(NB_model, newdata = as.matrix(dtm_test), type = \"class\")\n",
    "# Conversion des prédictions et des valeurs réelles en facteurs avec les mêmes niveaux\n",
    "levels <- sort(unique(c(y_train, y_test))) # Fusion et tri des niveaux uniques dans les données d'entraînement et de test\n",
    "predictions_factor <- factor(predictions, levels = levels)\n",
    "y_test_factor <- factor(y_test, levels = levels)\n",
    "\n",
    "# Calcul de la matrice de confusion\n",
    "conf_matrix <- confusionMatrix(predictions_factor, y_test_factor)\n",
    "\n",
    "# Affichage de la matrice de confusion\n",
    "print(conf_matrix)"
   ]
  },
  {
   "cell_type": "code",
   "execution_count": 17,
   "metadata": {
    "vscode": {
     "languageId": "r"
    }
   },
   "outputs": [
    {
     "name": "stderr",
     "output_type": "stream",
     "text": [
      "Warning message:\n",
      "\"multinomial_naive_bayes(): there are 9118 empty cells leading to zero estimates. Consider Laplace smoothing.\"\n"
     ]
    },
    {
     "name": "stdout",
     "output_type": "stream",
     "text": [
      "[1] \"Meilleur Laplace: 1\"\n",
      "[1] \"Meilleure Exactitude: NaN\"\n"
     ]
    }
   ],
   "source": [
    "\n",
    "# Fonction pour tester le modèle avec un paramètre donné\n",
    "test_model <- function(laplace) {\n",
    "  model <- multinomial_naive_bayes(as.matrix(dtm_train), as.factor(y_train), laplace = laplace)\n",
    "  predictions <- predict(model, as.matrix(dtm_test))\n",
    "  confusionMatrix <- table(Predicted = factor(predictions, levels = levels), Actual = factor(y_test, levels = levels))\n",
    "  accuracy <- sum(diag(confusionMatrix)) / sum(confusionMatrix)\n",
    "  return(accuracy)\n",
    "}\n",
    "\n",
    "# Gamme de valeurs pour le paramètre 'laplace'\n",
    "laplace_values <- seq(0, 1, by = 0.1)\n",
    "\n",
    "# Recherche en grille\n",
    "results <- sapply(laplace_values, test_model)\n",
    "\n",
    "# Trouver la meilleure valeur\n",
    "best_laplace <- laplace_values[which.max(results)]\n",
    "best_accuracy <- max(results)\n",
    "\n",
    "print(paste(\"Meilleur Laplace:\", best_laplace))\n",
    "print(paste(\"Meilleure Exactitude:\", best_accuracy))\n"
   ]
  }
 ],
 "metadata": {
  "kernelspec": {
   "display_name": "R",
   "language": "R",
   "name": "ir"
  },
  "language_info": {
   "codemirror_mode": "r",
   "file_extension": ".r",
   "mimetype": "text/x-r-source",
   "name": "R",
   "pygments_lexer": "r",
   "version": "4.3.2"
  }
 },
 "nbformat": 4,
 "nbformat_minor": 2
}
